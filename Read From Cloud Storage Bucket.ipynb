{
 "cells": [
  {
   "cell_type": "code",
   "execution_count": 1,
   "metadata": {},
   "outputs": [],
   "source": [
    "import kfp \n",
    "import pandas as pd\n",
    "from kfp.components import *\n",
    "\n",
    "def read_iris():\n",
    "    \n",
    "    import numpy as np\n",
    "    import pandas as pd\n",
    "    from tensorflow.python.lib.io import file_io\n",
    "\n",
    "    #from fs_gcsfs import GCSFS\n",
    "    #gcsfs = GCSFS(bucket_name=\"mlopstest\")\n",
    "    #fs = gcsfs.GCSFileSystem(project='mlopsbw', token='google_default')\n",
    "    \n",
    "    df = pd.read_csv(\"gs://mlopstest/Iris.csv\")\n",
    "    print(df.head())\n",
    "    df.drop('Species',axis=1, inplace=True)\n",
    "    \n",
    "    \n",
    "#     with gcsfs.open(\"Iris.csv\", \"w\") as gcs_file:\n",
    "#         #gcs_file.write(local_file.read())\n",
    "#         df.to_csv(\"gs://mlopstest/Iris.csv\")\n",
    "        \n",
    "    print('to csv done')\n",
    "    df = pd.read_csv(\"gs://mlopstest/Iris.csv\")\n",
    "    print(df.head())\n",
    "    \n",
    "    from tensorflow import gfile\n",
    "    \n",
    "    gcs_path = bucket + \"/\" + model_file\n",
    "    \n",
    "    if gfile.Exists(gcs_path):\n",
    "        gfile.Remove(gcs_path)\n",
    "    \n",
    "    gfile.Copy(\"Iris.csv\", gcs_path)\n",
    "    \n",
    "    return gcs_path\n",
    "    "
   ]
  },
  {
   "cell_type": "code",
   "execution_count": 2,
   "metadata": {},
   "outputs": [],
   "source": [
    "kfp_read_iris = kfp.components.func_to_container_op(func = read_iris, \n",
    "                                                          output_component_file = './read-iris-func.yaml',\n",
    "                                                          packages_to_install = ['numpy==1.17.2',\n",
    "                                                                                 'pandas==1.0.3','fs-gcsfs==1.2.0'])\n"
   ]
  },
  {
   "cell_type": "code",
   "execution_count": 3,
   "metadata": {},
   "outputs": [],
   "source": [
    "import kfp.dsl as dsl\n",
    "\n",
    "@dsl.pipeline(name='Read from Bucket Pipeline',description='read data from gs bucket')\n",
    "def RIris_func():\n",
    "    read_data_task = kfp_read_iris() \n",
    "    "
   ]
  },
  {
   "cell_type": "code",
   "execution_count": 4,
   "metadata": {},
   "outputs": [],
   "source": [
    "pipeline_func = RIris_func\n",
    "pipeline_filename = pipeline_func.__name__+'.pipeline.tar.gz'\n",
    "\n",
    "import kfp.compiler as comp\n",
    "comp.Compiler().compile(pipeline_func, pipeline_filename)"
   ]
  }
 ],
 "metadata": {
  "kernelspec": {
   "display_name": "Python 3",
   "language": "python",
   "name": "python3"
  },
  "language_info": {
   "codemirror_mode": {
    "name": "ipython",
    "version": 3
   },
   "file_extension": ".py",
   "mimetype": "text/x-python",
   "name": "python",
   "nbconvert_exporter": "python",
   "pygments_lexer": "ipython3",
   "version": "3.7.4"
  }
 },
 "nbformat": 4,
 "nbformat_minor": 4
}

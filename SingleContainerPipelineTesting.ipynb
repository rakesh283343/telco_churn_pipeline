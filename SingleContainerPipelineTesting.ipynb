{
 "cells": [
  {
   "cell_type": "code",
   "execution_count": 6,
   "metadata": {},
   "outputs": [
    {
     "data": {
      "text/plain": [
       "array([[1135,  176],\n",
       "       [ 189, 1122]])"
      ]
     },
     "execution_count": 6,
     "metadata": {},
     "output_type": "execute_result"
    }
   ],
   "source": [
    "import pandas as pd\n",
    "import numpy as np\n",
    "from sklearn.ensemble import RandomForestClassifier\n",
    "from imblearn.over_sampling import SMOTE\n",
    "from sklearn.model_selection import GridSearchCV\n",
    "from sklearn.model_selection import train_test_split\n",
    "from sklearn.metrics import confusion_matrix\n",
    "import string\n",
    "import urllib\n",
    "\n",
    "url = \"https://raw.githubusercontent.com/rujual/telco_churn/master/Data.csv\"\n",
    "file = urllib.request.urlopen(url)\n",
    "l = []\n",
    "for line in file:\n",
    "    decoded_line = line.decode()\n",
    "    l.append(decoded_line.split(',')[:-1])\n",
    "df_churn = pd.DataFrame(l[1:], columns=l[0])\n",
    "empty_cols=['customerID', 'gender', 'SeniorCitizen', 'Partner', 'Dependents',\n",
    "       'tenure', 'PhoneService', 'MultipleLines', 'InternetService',\n",
    "       'OnlineSecurity', 'OnlineBackup', 'DeviceProtection','TechSupport',\n",
    "       'StreamingTV', 'StreamingMovies', 'Contract', 'PaperlessBilling',\n",
    "       'PaymentMethod', 'MonthlyCharges', 'TotalCharges', 'Churn']\n",
    "\n",
    "for i in empty_cols:\n",
    "    df_churn[i]=df_churn[i].replace(\" \",np.nan)\n",
    "\n",
    "df_churn.drop(['customerID'], axis=1, inplace=True)\n",
    "df_churn = df_churn.dropna()\n",
    "binary_cols = ['Partner','Dependents','PhoneService','PaperlessBilling']\n",
    "\n",
    "for i in binary_cols:\n",
    "    df_churn[i] = df_churn[i].replace({\"Yes\":1,\"No\":0})\n",
    "\n",
    "#Encoding column 'gender'\n",
    "df_churn['gender'] = df_churn['gender'].replace({\"Male\":1,\"Female\":0})\n",
    "\n",
    "\n",
    "category_cols = ['PaymentMethod','MultipleLines','InternetService','OnlineSecurity',\n",
    "               'OnlineBackup','DeviceProtection',\n",
    "               'TechSupport','StreamingTV','StreamingMovies','Contract']\n",
    "\n",
    "for cc in category_cols:\n",
    "    dummies = pd.get_dummies(df_churn[cc], drop_first=False)\n",
    "    dummies = dummies.add_prefix(\"{}#\".format(cc))\n",
    "    df_churn.drop(cc, axis=1, inplace=True)\n",
    "    df_churn = df_churn.join(dummies)\n",
    "\n",
    "df_churn['Churn'] = df_churn['Churn'].replace({\"Yes\":1,\"No\":0})\n",
    "\n",
    "\n",
    "df1 = df_churn.loc[:,:'Churn']\n",
    "df1_int = df1[set(df1.columns)-{'tenure','MonthlyCharges','TotalCharges'}]\n",
    "df1_float = df1[['tenure','MonthlyCharges','TotalCharges']]\n",
    "df2 = df_churn.loc[:,'PaymentMethod#Bank transfer (automatic)':]\n",
    "\n",
    "def get_item(a):\n",
    "    return int(a)\n",
    "\n",
    "def get_fl(a):\n",
    "    return float(a)\n",
    "\n",
    "df1_int = df1_int.applymap(get_item)\n",
    "df1_float = df1_float.applymap(get_fl)\n",
    "df2 = df2.applymap(get_item)\n",
    "df_churn = df1_int.join(df1_float.join(df2))\n",
    "df_churn.dropna(inplace=True)\n",
    "\n",
    "n_estimators = 100\n",
    "n_est = n_estimators\n",
    "\n",
    "y1 = df_churn['Churn']\n",
    "X1 = df_churn.drop(['Churn'],axis=1)\n",
    "\n",
    "X_train, X_test, y_train, y_test = train_test_split(X1, y1, random_state=0)\n",
    "\n",
    "\n",
    "sm = SMOTE(random_state=0)\n",
    "X_train_res, y_train_res = sm.fit_sample(X_train, y_train)\n",
    "X_test_res, y_test_res = sm.fit_sample(X_test, y_test)\n",
    "\n",
    "param_grid = {\n",
    "    'n_estimators': [50, 100, 200],\n",
    "    'max_features': ['auto', 'sqrt', 'log2'],\n",
    "    'max_depth' : [2,4,5,6,7,8],\n",
    "    'criterion' :['gini', 'entropy']\n",
    "}\n",
    "\n",
    "import xgboost as xgb\n",
    "\n",
    "clfxg = xgb.XGBClassifier(objective='binary:logistic', verbosity=0, max_depth=2, eta = 1, silent=0)\n",
    "clfxg.fit(X_train_res, y_train_res) #, num_round, watchlist)\n",
    "\n",
    "y_test_pred = clfxg.predict(X_test_res)\n",
    "conf = confusion_matrix(y_test_res, y_test_pred)\n",
    "conf"
   ]
  },
  {
   "cell_type": "code",
   "execution_count": 5,
   "metadata": {},
   "outputs": [
    {
     "data": {
      "text/plain": [
       "array([[1057,  254],\n",
       "       [ 146, 1165]])"
      ]
     },
     "execution_count": 5,
     "metadata": {},
     "output_type": "execute_result"
    }
   ],
   "source": [
    "rfc=RandomForestClassifier(random_state=42,n_estimators=n_est)\n",
    "gsv_rfc = GridSearchCV(estimator=rfc, param_grid=param_grid, cv= 5)\n",
    "rfc.fit(X_train_res, y_train_res)\n",
    "\n",
    "rfc_best=RandomForestClassifier(random_state=42, max_features='auto', n_estimators= 50, max_depth=8,\n",
    "                                criterion='gini')\n",
    "\n",
    "rfc_best.fit(X_train_res, y_train_res)\n",
    "X_test_res, y_test_res = sm.fit_sample(X_test, y_test)\n",
    "y_test_pred = rfc_best.predict(X_test_res)\n",
    "rf_score = rfc_best.score(X_test_res, y_test_res)\n",
    "conf = confusion_matrix(y_test_res, y_test_pred)\n",
    "conf"
   ]
  }
 ],
 "metadata": {
  "kernelspec": {
   "display_name": "Python 3",
   "language": "python",
   "name": "python3"
  },
  "language_info": {
   "codemirror_mode": {
    "name": "ipython",
    "version": 3
   },
   "file_extension": ".py",
   "mimetype": "text/x-python",
   "name": "python",
   "nbconvert_exporter": "python",
   "pygments_lexer": "ipython3",
   "version": "3.7.4"
  }
 },
 "nbformat": 4,
 "nbformat_minor": 2
}
